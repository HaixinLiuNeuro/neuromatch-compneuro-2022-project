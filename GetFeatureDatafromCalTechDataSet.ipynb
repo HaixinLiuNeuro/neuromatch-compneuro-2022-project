{
  "nbformat": 4,
  "nbformat_minor": 0,
  "metadata": {
    "colab": {
      "name": "GetFeatureDatafromCalTechDataSet.ipynb",
      "provenance": [],
      "collapsed_sections": [],
      "authorship_tag": "ABX9TyOaYmtIq9pleEBSHdxP7+fg",
      "include_colab_link": true
    },
    "kernelspec": {
      "name": "python3",
      "display_name": "Python 3"
    },
    "language_info": {
      "name": "python"
    }
  },
  "cells": [
    {
      "cell_type": "markdown",
      "metadata": {
        "id": "view-in-github",
        "colab_type": "text"
      },
      "source": [
        "<a href=\"https://colab.research.google.com/github/HaixinLiuNeuro/neuromatch-compneuro-2022-project/blob/development/GetFeatureDatafromCalTechDataSet.ipynb\" target=\"_parent\"><img src=\"https://colab.research.google.com/assets/colab-badge.svg\" alt=\"Open In Colab\"/></a>"
      ]
    },
    {
      "cell_type": "code",
      "execution_count": 1,
      "metadata": {
        "id": "3Jykry2aw3ju"
      },
      "outputs": [],
      "source": [
        "# init\n",
        "import os\n",
        "import json\n",
        "import numpy as np\n",
        "import pandas as pd"
      ]
    },
    {
      "cell_type": "code",
      "source": [
        "# download from Caltech server\n",
        "# @title Download and unzip the data\n",
        "import os, requests, zipfile\n",
        "\n",
        "fname = 'task1.zip'\n",
        "url = \"https://data.caltech.edu/tindfiles/serve/a86f4297-a087-4f40-9ed4-765779105c2c/\"\n",
        "\n",
        "if not os.path.isfile(fname):\n",
        "  try:\n",
        "    r = requests.get(url)\n",
        "  except requests.ConnectionError:\n",
        "    print(\"!!! Failed to download data !!!\")\n",
        "  else:\n",
        "    if r.status_code != requests.codes.ok:\n",
        "      print(\"!!! Failed to download data !!!\")\n",
        "    else:\n",
        "      with open(fname, \"wb\") as fid:\n",
        "        fid.write(r.content)\n",
        "else:\n",
        "  print('Data have already been downloaded!!!')\n",
        "\n",
        "if not os.path.exists('task1_classic_classification'):\n",
        "  # Unzip the file\n",
        "  with zipfile.ZipFile(fname, 'r') as zip_ref:\n",
        "    zip_ref.extractall('.')\n",
        "\n",
        "\n",
        "# Download the script\n",
        "fname = 'calms21_convert_to_npy.py'\n",
        "url = \"https://data.caltech.edu/tindfiles/serve/ca84a583-ea06-440a-995c-c184bcb0291c/\"\n",
        "\n",
        "if not os.path.isfile(fname):\n",
        "  try:\n",
        "    r = requests.get(url)\n",
        "  except requests.ConnectionError:\n",
        "    print(\"!!! Failed to download data !!!\")\n",
        "  else:\n",
        "    if r.status_code != requests.codes.ok:\n",
        "      print(\"!!! Failed to download data !!!\")\n",
        "    else:\n",
        "      with open(fname, \"wb\") as fid:\n",
        "        fid.write(r.content)"
      ],
      "metadata": {
        "cellView": "form",
        "id": "ZWXG5loUxId3"
      },
      "execution_count": 2,
      "outputs": []
    },
    {
      "cell_type": "code",
      "source": [
        "# unpack the data\n",
        "!python calms21_convert_to_npy.py  --input_directory '.' --output_directory '.'\n",
        "!python calms21_convert_to_npy.py  --input_directory '.' --output_directory '.' --parse_treba"
      ],
      "metadata": {
        "colab": {
          "base_uri": "https://localhost:8080/"
        },
        "id": "FNnVILP0xPCq",
        "outputId": "0396324b-e50b-4edd-c971-1332c6e8f343"
      },
      "execution_count": 3,
      "outputs": [
        {
          "output_type": "stream",
          "name": "stdout",
          "text": [
            "Saving ./calms21_task1_test\n",
            "tcmalloc: large alloc 1224941568 bytes == 0x4ee80000 @  0x7fde1c48f1e7 0x4a3940 0x5b438c 0x5ea94f 0x5939cb 0x594cd3 0x5d0ecb 0x5939af 0x594cd3 0x594f8e 0x59526e 0x5bfba0 0x59aeca 0x515655 0x549e0e 0x593fce 0x548ae9 0x51566f 0x549576 0x593fce 0x5118f8 0x593dd7 0x5118f8 0x549576 0x604173 0x5f5506 0x5f8c6c 0x5f9206 0x64faf2 0x64fc4e 0x7fde1c08cc87\n",
            "tcmalloc: large alloc 1224941568 bytes == 0x97eb2000 @  0x7fde1c48f1e7 0x4a3940 0x52ab72 0x527cf3 0x51d358 0x59358d 0x548c51 0x51566f 0x549576 0x4bcb19 0x59c019 0x59588e 0x595e64 0x4d8924 0x5bfbcb 0x59aeca 0x515655 0x549e0e 0x593fce 0x548ae9 0x51566f 0x549576 0x593fce 0x5118f8 0x593dd7 0x5118f8 0x549576 0x604173 0x5f5506 0x5f8c6c 0x5f9206\n",
            "Saving ./calms21_task1_train\n",
            "Saving ./calms21_task1_test_features\n",
            "tcmalloc: large alloc 1224941568 bytes == 0xcf22000 @  0x7f50bbfde1e7 0x4a3940 0x5b438c 0x5ea94f 0x5939cb 0x594cd3 0x5d0ecb 0x5939af 0x594cd3 0x594f8e 0x59526e 0x5bfba0 0x59aeca 0x515655 0x549e0e 0x593fce 0x548ae9 0x51566f 0x549576 0x593fce 0x5118f8 0x593dd7 0x5118f8 0x549576 0x604173 0x5f5506 0x5f8c6c 0x5f9206 0x64faf2 0x64fc4e 0x7f50bbbdbc87\n",
            "tcmalloc: large alloc 1224941568 bytes == 0x55f54000 @  0x7f50bbfde1e7 0x4a3940 0x52ab72 0x527cf3 0x51d358 0x59358d 0x548c51 0x51566f 0x549576 0x4bcb19 0x59c019 0x59588e 0x595e64 0x4d8924 0x5bfbcb 0x59aeca 0x515655 0x549e0e 0x593fce 0x548ae9 0x51566f 0x549576 0x593fce 0x5118f8 0x593dd7 0x5118f8 0x549576 0x604173 0x5f5506 0x5f8c6c 0x5f9206\n",
            "Saving ./calms21_task1_train_features\n"
          ]
        }
      ]
    },
    {
      "cell_type": "code",
      "source": [
        "# load data function\n",
        "def load_task1_data(data_path):\n",
        "  \"\"\"\n",
        "  Load data for task 1:\n",
        "      The vocaubulary tells you how to map behavior names to class ids;\n",
        "      it is the same for all sequences in this dataset.\n",
        "  \"\"\"\n",
        "  data_dict = np.load(data_path, allow_pickle=True).item()\n",
        "  dataset = data_dict['annotator-id_0']\n",
        "  # Get any sequence key.\n",
        "  sequence_id = list(data_dict['annotator-id_0'].keys())[0]\n",
        "  vocabulary = data_dict['annotator-id_0'][sequence_id]['metadata']['vocab']\n",
        "  return dataset, vocabulary\n"
      ],
      "metadata": {
        "id": "DNYIOCV9xYZv"
      },
      "execution_count": 4,
      "outputs": []
    },
    {
      "cell_type": "code",
      "source": [
        "# load the data containing task programming features\n",
        "training_data_fea, vocab_fea = load_task1_data('./calms21_task1_train_features.npy')\n",
        "# test_data_fea, _ = load_task1_data('./calms21_task1_test_features.npy') # currently we do not need this "
      ],
      "metadata": {
        "id": "r_kzicMxxbVs"
      },
      "execution_count": 5,
      "outputs": []
    },
    {
      "cell_type": "markdown",
      "source": [
        "features: pre-computed features from a model trained with task programming on the trajectory data of the CalMS21 unlabeled videos set.\n",
        "Dimensions: (# frames) x (feature dim = 32).\n",
        "However, the feature data is 60 dim. Currently, just save them all"
      ],
      "metadata": {
        "id": "S6iMunarxxSI"
      }
    },
    {
      "cell_type": "code",
      "source": [
        "# put into a data frame variable\n",
        "task_feature_df = pd.DataFrame({'frame_num':[], 'session_num': [], 'annotations':[]})\n",
        "training_tskfea_df = pd.DataFrame(training_data_fea)\n",
        "for idx, session in enumerate(training_tskfea_df.columns):\n",
        "  session_df = pd.DataFrame()\n",
        "  session_df['annotations']=training_tskfea_df[session]['annotations']\n",
        "  session_df['session_num'] = idx\n",
        "  session_df['frame_num'] = range(len(training_tskfea_df[session]['annotations']))\n",
        "  for x in range(60): # because we checked that there are 60 dim in the feature data\n",
        "    a = str(x)    \n",
        "    print(x)\n",
        "    print(a)\n",
        "    fea_name = ['Fea', a]    # print(tmp)\n",
        "    fea_name=''.join(fea_name)\n",
        "    session_df[fea_name] = training_tskfea_df[session]['features'][:,x]\n",
        "  task_feature_df = task_feature_df.append(session_df, ignore_index=True)"
      ],
      "metadata": {
        "id": "8UNyucnnxltB"
      },
      "execution_count": 112,
      "outputs": []
    },
    {
      "cell_type": "code",
      "source": [
        "# save task_feature_df\n",
        "task_feature_df.to_csv('task_feature_df.csv')"
      ],
      "metadata": {
        "id": "tSP3Up6j5EWu"
      },
      "execution_count": 120,
      "outputs": []
    },
    {
      "cell_type": "markdown",
      "source": [
        "# the 'task_feature_df.csv' file is saved to our google drive"
      ],
      "metadata": {
        "id": "pRrTe5xKCFo7"
      }
    },
    {
      "cell_type": "code",
      "source": [
        "task_feature_df.head()"
      ],
      "metadata": {
        "colab": {
          "base_uri": "https://localhost:8080/",
          "height": 300
        },
        "id": "DJ8vl2F86pQI",
        "outputId": "81a469cf-6ba6-4794-9b22-a40bb4ebca79"
      },
      "execution_count": 122,
      "outputs": [
        {
          "output_type": "execute_result",
          "data": {
            "text/plain": [
              "   frame_num  session_num  annotations        Fea0        Fea1        Fea2  \\\n",
              "0        0.0          0.0          3.0  831.659204  805.659204  775.659204   \n",
              "1        1.0          0.0          1.0  833.050439  809.050439  778.050439   \n",
              "2        2.0          0.0          1.0  838.718976  816.718976  776.718976   \n",
              "3        3.0          0.0          1.0  826.757507  815.757507  774.757507   \n",
              "4        4.0          0.0          1.0  822.045709  812.045709  768.045709   \n",
              "\n",
              "         Fea3        Fea4        Fea5        Fea6  ...     Fea50     Fea51  \\\n",
              "0  780.659204  711.659204  711.659204  643.659204  ...  0.201271 -1.686340   \n",
              "1  783.050439  723.050439  717.050439  644.050439  ...  0.240914 -1.253083   \n",
              "2  787.718976  730.718976  713.718976  646.718976  ...  0.267423 -0.375269   \n",
              "3  785.757507  743.757507  711.757507  644.757507  ...  0.224883  0.709808   \n",
              "4  779.045709  749.045709  709.045709  646.045709  ...  0.203512  1.831389   \n",
              "\n",
              "      Fea52     Fea53     Fea54     Fea55     Fea56     Fea57     Fea58  \\\n",
              "0 -0.170703  0.215731  0.251000  0.227394  0.221438 -0.341884 -0.258297   \n",
              "1 -0.135972  0.246578  0.284343  0.260936  0.256414 -0.275257 -0.288740   \n",
              "2 -0.001808  0.268099  0.302942  0.285639  0.274443 -0.085661 -0.299937   \n",
              "3 -0.099615  0.260069  0.291605  0.270890  0.252054  0.117812 -0.249731   \n",
              "4 -0.167013  0.261911  0.262023  0.235552  0.209837  0.161930 -0.224229   \n",
              "\n",
              "      Fea59  \n",
              "0  0.247844  \n",
              "1  0.288741  \n",
              "2  0.309663  \n",
              "3  0.304101  \n",
              "4  0.255363  \n",
              "\n",
              "[5 rows x 63 columns]"
            ],
            "text/html": [
              "\n",
              "  <div id=\"df-e133ddf2-a321-446a-888d-67d744813757\">\n",
              "    <div class=\"colab-df-container\">\n",
              "      <div>\n",
              "<style scoped>\n",
              "    .dataframe tbody tr th:only-of-type {\n",
              "        vertical-align: middle;\n",
              "    }\n",
              "\n",
              "    .dataframe tbody tr th {\n",
              "        vertical-align: top;\n",
              "    }\n",
              "\n",
              "    .dataframe thead th {\n",
              "        text-align: right;\n",
              "    }\n",
              "</style>\n",
              "<table border=\"1\" class=\"dataframe\">\n",
              "  <thead>\n",
              "    <tr style=\"text-align: right;\">\n",
              "      <th></th>\n",
              "      <th>frame_num</th>\n",
              "      <th>session_num</th>\n",
              "      <th>annotations</th>\n",
              "      <th>Fea0</th>\n",
              "      <th>Fea1</th>\n",
              "      <th>Fea2</th>\n",
              "      <th>Fea3</th>\n",
              "      <th>Fea4</th>\n",
              "      <th>Fea5</th>\n",
              "      <th>Fea6</th>\n",
              "      <th>...</th>\n",
              "      <th>Fea50</th>\n",
              "      <th>Fea51</th>\n",
              "      <th>Fea52</th>\n",
              "      <th>Fea53</th>\n",
              "      <th>Fea54</th>\n",
              "      <th>Fea55</th>\n",
              "      <th>Fea56</th>\n",
              "      <th>Fea57</th>\n",
              "      <th>Fea58</th>\n",
              "      <th>Fea59</th>\n",
              "    </tr>\n",
              "  </thead>\n",
              "  <tbody>\n",
              "    <tr>\n",
              "      <th>0</th>\n",
              "      <td>0.0</td>\n",
              "      <td>0.0</td>\n",
              "      <td>3.0</td>\n",
              "      <td>831.659204</td>\n",
              "      <td>805.659204</td>\n",
              "      <td>775.659204</td>\n",
              "      <td>780.659204</td>\n",
              "      <td>711.659204</td>\n",
              "      <td>711.659204</td>\n",
              "      <td>643.659204</td>\n",
              "      <td>...</td>\n",
              "      <td>0.201271</td>\n",
              "      <td>-1.686340</td>\n",
              "      <td>-0.170703</td>\n",
              "      <td>0.215731</td>\n",
              "      <td>0.251000</td>\n",
              "      <td>0.227394</td>\n",
              "      <td>0.221438</td>\n",
              "      <td>-0.341884</td>\n",
              "      <td>-0.258297</td>\n",
              "      <td>0.247844</td>\n",
              "    </tr>\n",
              "    <tr>\n",
              "      <th>1</th>\n",
              "      <td>1.0</td>\n",
              "      <td>0.0</td>\n",
              "      <td>1.0</td>\n",
              "      <td>833.050439</td>\n",
              "      <td>809.050439</td>\n",
              "      <td>778.050439</td>\n",
              "      <td>783.050439</td>\n",
              "      <td>723.050439</td>\n",
              "      <td>717.050439</td>\n",
              "      <td>644.050439</td>\n",
              "      <td>...</td>\n",
              "      <td>0.240914</td>\n",
              "      <td>-1.253083</td>\n",
              "      <td>-0.135972</td>\n",
              "      <td>0.246578</td>\n",
              "      <td>0.284343</td>\n",
              "      <td>0.260936</td>\n",
              "      <td>0.256414</td>\n",
              "      <td>-0.275257</td>\n",
              "      <td>-0.288740</td>\n",
              "      <td>0.288741</td>\n",
              "    </tr>\n",
              "    <tr>\n",
              "      <th>2</th>\n",
              "      <td>2.0</td>\n",
              "      <td>0.0</td>\n",
              "      <td>1.0</td>\n",
              "      <td>838.718976</td>\n",
              "      <td>816.718976</td>\n",
              "      <td>776.718976</td>\n",
              "      <td>787.718976</td>\n",
              "      <td>730.718976</td>\n",
              "      <td>713.718976</td>\n",
              "      <td>646.718976</td>\n",
              "      <td>...</td>\n",
              "      <td>0.267423</td>\n",
              "      <td>-0.375269</td>\n",
              "      <td>-0.001808</td>\n",
              "      <td>0.268099</td>\n",
              "      <td>0.302942</td>\n",
              "      <td>0.285639</td>\n",
              "      <td>0.274443</td>\n",
              "      <td>-0.085661</td>\n",
              "      <td>-0.299937</td>\n",
              "      <td>0.309663</td>\n",
              "    </tr>\n",
              "    <tr>\n",
              "      <th>3</th>\n",
              "      <td>3.0</td>\n",
              "      <td>0.0</td>\n",
              "      <td>1.0</td>\n",
              "      <td>826.757507</td>\n",
              "      <td>815.757507</td>\n",
              "      <td>774.757507</td>\n",
              "      <td>785.757507</td>\n",
              "      <td>743.757507</td>\n",
              "      <td>711.757507</td>\n",
              "      <td>644.757507</td>\n",
              "      <td>...</td>\n",
              "      <td>0.224883</td>\n",
              "      <td>0.709808</td>\n",
              "      <td>-0.099615</td>\n",
              "      <td>0.260069</td>\n",
              "      <td>0.291605</td>\n",
              "      <td>0.270890</td>\n",
              "      <td>0.252054</td>\n",
              "      <td>0.117812</td>\n",
              "      <td>-0.249731</td>\n",
              "      <td>0.304101</td>\n",
              "    </tr>\n",
              "    <tr>\n",
              "      <th>4</th>\n",
              "      <td>4.0</td>\n",
              "      <td>0.0</td>\n",
              "      <td>1.0</td>\n",
              "      <td>822.045709</td>\n",
              "      <td>812.045709</td>\n",
              "      <td>768.045709</td>\n",
              "      <td>779.045709</td>\n",
              "      <td>749.045709</td>\n",
              "      <td>709.045709</td>\n",
              "      <td>646.045709</td>\n",
              "      <td>...</td>\n",
              "      <td>0.203512</td>\n",
              "      <td>1.831389</td>\n",
              "      <td>-0.167013</td>\n",
              "      <td>0.261911</td>\n",
              "      <td>0.262023</td>\n",
              "      <td>0.235552</td>\n",
              "      <td>0.209837</td>\n",
              "      <td>0.161930</td>\n",
              "      <td>-0.224229</td>\n",
              "      <td>0.255363</td>\n",
              "    </tr>\n",
              "  </tbody>\n",
              "</table>\n",
              "<p>5 rows × 63 columns</p>\n",
              "</div>\n",
              "      <button class=\"colab-df-convert\" onclick=\"convertToInteractive('df-e133ddf2-a321-446a-888d-67d744813757')\"\n",
              "              title=\"Convert this dataframe to an interactive table.\"\n",
              "              style=\"display:none;\">\n",
              "        \n",
              "  <svg xmlns=\"http://www.w3.org/2000/svg\" height=\"24px\"viewBox=\"0 0 24 24\"\n",
              "       width=\"24px\">\n",
              "    <path d=\"M0 0h24v24H0V0z\" fill=\"none\"/>\n",
              "    <path d=\"M18.56 5.44l.94 2.06.94-2.06 2.06-.94-2.06-.94-.94-2.06-.94 2.06-2.06.94zm-11 1L8.5 8.5l.94-2.06 2.06-.94-2.06-.94L8.5 2.5l-.94 2.06-2.06.94zm10 10l.94 2.06.94-2.06 2.06-.94-2.06-.94-.94-2.06-.94 2.06-2.06.94z\"/><path d=\"M17.41 7.96l-1.37-1.37c-.4-.4-.92-.59-1.43-.59-.52 0-1.04.2-1.43.59L10.3 9.45l-7.72 7.72c-.78.78-.78 2.05 0 2.83L4 21.41c.39.39.9.59 1.41.59.51 0 1.02-.2 1.41-.59l7.78-7.78 2.81-2.81c.8-.78.8-2.07 0-2.86zM5.41 20L4 18.59l7.72-7.72 1.47 1.35L5.41 20z\"/>\n",
              "  </svg>\n",
              "      </button>\n",
              "      \n",
              "  <style>\n",
              "    .colab-df-container {\n",
              "      display:flex;\n",
              "      flex-wrap:wrap;\n",
              "      gap: 12px;\n",
              "    }\n",
              "\n",
              "    .colab-df-convert {\n",
              "      background-color: #E8F0FE;\n",
              "      border: none;\n",
              "      border-radius: 50%;\n",
              "      cursor: pointer;\n",
              "      display: none;\n",
              "      fill: #1967D2;\n",
              "      height: 32px;\n",
              "      padding: 0 0 0 0;\n",
              "      width: 32px;\n",
              "    }\n",
              "\n",
              "    .colab-df-convert:hover {\n",
              "      background-color: #E2EBFA;\n",
              "      box-shadow: 0px 1px 2px rgba(60, 64, 67, 0.3), 0px 1px 3px 1px rgba(60, 64, 67, 0.15);\n",
              "      fill: #174EA6;\n",
              "    }\n",
              "\n",
              "    [theme=dark] .colab-df-convert {\n",
              "      background-color: #3B4455;\n",
              "      fill: #D2E3FC;\n",
              "    }\n",
              "\n",
              "    [theme=dark] .colab-df-convert:hover {\n",
              "      background-color: #434B5C;\n",
              "      box-shadow: 0px 1px 3px 1px rgba(0, 0, 0, 0.15);\n",
              "      filter: drop-shadow(0px 1px 2px rgba(0, 0, 0, 0.3));\n",
              "      fill: #FFFFFF;\n",
              "    }\n",
              "  </style>\n",
              "\n",
              "      <script>\n",
              "        const buttonEl =\n",
              "          document.querySelector('#df-e133ddf2-a321-446a-888d-67d744813757 button.colab-df-convert');\n",
              "        buttonEl.style.display =\n",
              "          google.colab.kernel.accessAllowed ? 'block' : 'none';\n",
              "\n",
              "        async function convertToInteractive(key) {\n",
              "          const element = document.querySelector('#df-e133ddf2-a321-446a-888d-67d744813757');\n",
              "          const dataTable =\n",
              "            await google.colab.kernel.invokeFunction('convertToInteractive',\n",
              "                                                     [key], {});\n",
              "          if (!dataTable) return;\n",
              "\n",
              "          const docLinkHtml = 'Like what you see? Visit the ' +\n",
              "            '<a target=\"_blank\" href=https://colab.research.google.com/notebooks/data_table.ipynb>data table notebook</a>'\n",
              "            + ' to learn more about interactive tables.';\n",
              "          element.innerHTML = '';\n",
              "          dataTable['output_type'] = 'display_data';\n",
              "          await google.colab.output.renderOutput(dataTable, element);\n",
              "          const docLink = document.createElement('div');\n",
              "          docLink.innerHTML = docLinkHtml;\n",
              "          element.appendChild(docLink);\n",
              "        }\n",
              "      </script>\n",
              "    </div>\n",
              "  </div>\n",
              "  "
            ]
          },
          "metadata": {},
          "execution_count": 122
        }
      ]
    },
    {
      "cell_type": "markdown",
      "source": [
        "#Below is playground to take a look at the features (sanity check)"
      ],
      "metadata": {
        "id": "WJpaaEj33gfX"
      }
    },
    {
      "cell_type": "code",
      "source": [
        "# playground to take a look at the feature data\n",
        "\n",
        "# get one session to take a look\n",
        "idx = 0\n",
        "session = training_tskfea_df.columns[0]\n",
        "# session_df = pd.DataFrame()\n",
        "# session_df['annotations']=training_df[session]['annotations']\n",
        "\n",
        "tmp = training_tskfea_df[session]['features']\n",
        "tmp_anno = training_tskfea_df[session]['annotations']"
      ],
      "metadata": {
        "id": "gU9CeVOYxvAl"
      },
      "execution_count": 22,
      "outputs": []
    },
    {
      "cell_type": "code",
      "source": [
        "tmp.shape"
      ],
      "metadata": {
        "colab": {
          "base_uri": "https://localhost:8080/"
        },
        "id": "hGGuDyEI3Fcp",
        "outputId": "c348d5ae-e41f-48de-d679-38c5585f0465"
      },
      "execution_count": 10,
      "outputs": [
        {
          "output_type": "execute_result",
          "data": {
            "text/plain": [
              "(21364, 60)"
            ]
          },
          "metadata": {},
          "execution_count": 10
        }
      ]
    },
    {
      "cell_type": "code",
      "source": [
        "import matplotlib.pyplot as plt\n",
        "from matplotlib import animation\n",
        "from matplotlib import colors\n",
        "from matplotlib import rc\n",
        "import matplotlib.patches as mpatches"
      ],
      "metadata": {
        "id": "U_7teiKX3ML0"
      },
      "execution_count": 12,
      "outputs": []
    },
    {
      "cell_type": "code",
      "source": [
        "plt.plot(tmp[:,[1, 10, 20]])\n",
        "plt.plot(tmp_anno*300)"
      ],
      "metadata": {
        "colab": {
          "base_uri": "https://localhost:8080/",
          "height": 282
        },
        "id": "DAcHgIs03XOv",
        "outputId": "3a00198a-c390-4418-f435-651f62f7807d"
      },
      "execution_count": 25,
      "outputs": [
        {
          "output_type": "execute_result",
          "data": {
            "text/plain": [
              "[<matplotlib.lines.Line2D at 0x7f19984f5790>]"
            ]
          },
          "metadata": {},
          "execution_count": 25
        },
        {
          "output_type": "display_data",
          "data": {
            "text/plain": [
              "<Figure size 432x288 with 1 Axes>"
            ],
            "image/png": "[encoded data removed]"
          },
          "metadata": {
            "needs_background": "light"
          }
        }
      ]
    }
  ]
}