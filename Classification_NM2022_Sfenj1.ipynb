{
  "nbformat": 4,
  "nbformat_minor": 0,
  "metadata": {
    "colab": {
      "name": "Classification_NM2022_Sfenj1.ipynb",
      "provenance": [],
      "collapsed_sections": [],
      "include_colab_link": true
    },
    "kernelspec": {
      "name": "python3",
      "display_name": "Python 3"
    },
    "language_info": {
      "name": "python"
    }
  },
  "cells": [
    {
      "cell_type": "markdown",
      "source": [
        "# Links\n",
        "\n",
        "[Open main branch version of this notebook in Colab](https://colab.research.google.com/github/ffvoigt/neuromatch-compneuro-2022-project/blob/main/Classification_NM2022_Sfenj1.ipynb)\n",
        "\n",
        "[Open development branch version of this notebook in Colab](https://colab.research.google.com/github/ffvoigt/neuromatch-compneuro-2022-project/blob/development/Classification_NM2022_Sfenj1.ipynb)\n"      
      ],
      "metadata": {
        "id": "LinkCell"
      }
    },
    {
      "cell_type": "markdown",
      "source": [
        "# General\n",
        "\n",
        "The job of this notebook is to:\n",
        "\n",
        "* Load the feature data into a `master_df` DataFrame\n",
        "* Build a relatively simple multinomial GLM to predict behavioral state given features of interest\n",
        "\n",
        "## Style / naming guide / coding hints\n",
        "\n",
        "* Axes in column labels such as 'X' and 'Y' are always capitalized: e.g. `left_ear_X`\n",
        "* All coordinates are in cm, area in cm^2 etc.\n",
        "* All angles are in degrees\n",
        "* 0° is up / north in the video frame\n",
        "\n",
        "\n"
      ],
      "metadata": {
        "id": "jx6Vpa88H5xk"
      }
    },
    {
      "cell_type": "markdown",
      "source": [
        "# Housekeeping"
      ],
      "metadata": {
        "id": "Wk3sQ8H2sNRX"
      }
    },
    {
      "cell_type": "code",
      "source": [
        "import os\n",
        "import json\n",
        "import numpy as np\n",
        "import pandas as pd\n",
        "import matplotlib.pyplot as plt\n",
        "from matplotlib import animation\n",
        "from matplotlib import colors\n",
        "from matplotlib import rc\n",
        "import matplotlib.patches as mpatches\n",
        "import seaborn as sns"
      ],
      "metadata": {
        "id": "BMexSnAusPEy"
      },
      "execution_count": 1,
      "outputs": []
    },
    {
      "cell_type": "markdown",
      "source": [
        "# Loading the data from Google Drive"
      ],
      "metadata": {
        "id": "8uInKycysSz3"
      }
    },
    {
      "cell_type": "code",
      "source": [
        "#Because we are using a Shared with me drive, we need to have a small workaround\n",
        "#In your shared with me folder, right click on:\n",
        "#NMA_2022_Sfenj_Group_1\"\n",
        "#And click \"Make a shortcut\", and have this shortcut within your own drive\n",
        "\n",
        "#now we can mount our drive\n",
        "from pickle import load\n",
        "# mount google drive\n",
        "from google.colab import drive\n",
        "drive.mount('/content/drive')\n",
        "#Since you have mounted your drive, which includes this shortcut, you can now access the files within that shortcut:\n",
        "feature_df = pd.read_csv('/content/drive/MyDrive/NMA_2022_Sfenj_Group_1/unstable_feature_df.csv',index_col=0)\n",
        "\n",
        "#test by showing the head\n",
        "feature_df.head()"
      ],
      "metadata": {
        "colab": {
          "base_uri": "https://localhost:8080/",
          "height": 334
        },
        "id": "78L3nBBpsSG9",
        "outputId": "4436d015-45c6-4e27-f5fa-09eab4d33d14"
      },
      "execution_count": 2,
      "outputs": [
        {
          "output_type": "stream",
          "name": "stdout",
          "text": [
            "Mounted at /content/drive\n"
          ]
        },
        {
          "output_type": "execute_result",
          "data": {
            "text/plain": [
              "   Unnamed: 0  Unnamed: 0.1  frame_num  session_num  mouse_id  annotations  \\\n",
              "0           0             0          0            0         0            3   \n",
              "1           1             1          1            0         0            1   \n",
              "2           2             2          2            0         0            1   \n",
              "3           3             3          3            0         0            1   \n",
              "4           4             4          4            0         0            1   \n",
              "\n",
              "      nose_X    nose_Y  left_ear_X  left_ear_Y  ...  head_orientation  \\\n",
              "0  22.059926  5.382346   21.370271    6.655555  ...        -76.930682   \n",
              "1  22.096829  5.355307   21.460224    6.681567  ...        -81.724107   \n",
              "2  22.247188  4.770894   21.663633    6.495032  ...       -102.724356   \n",
              "3  21.929907  4.645837   21.638130    6.237349  ...       -102.994617   \n",
              "4  21.804926  4.627531   21.539674    5.900741  ...        -94.236395   \n",
              "\n",
              "   spd_head_centroid  spd_body_centroid  spd_centroid  acc_head_centroid  \\\n",
              "0                NaN                NaN           NaN                NaN   \n",
              "1           2.470806           6.215506      4.074207                NaN   \n",
              "2           7.378437           3.004966      3.851131         147.228931   \n",
              "3           6.647651           2.418231      3.412081         -21.923601   \n",
              "4           7.185160           3.110226      4.968029          16.125266   \n",
              "\n",
              "   acc_body_centroid  acc_centroid  distance  poly_area_head  poly_area_body  \n",
              "0                NaN           NaN  4.244334        0.378178        1.377622  \n",
              "1                NaN           NaN  4.257485        0.352497        1.259771  \n",
              "2         -96.316187     -6.692275  4.378617        0.557240        1.263289  \n",
              "3         -17.602061    -13.171507  4.361401        0.437631        1.380436  \n",
              "4          20.759847     46.678465  4.307015        0.255402        1.513766  \n",
              "\n",
              "[5 rows x 37 columns]"
            ],
            "text/html": [
              "\n",
              "  <div id=\"df-f685076f-d14d-48e9-832f-fe898b54cbca\">\n",
              "    <div class=\"colab-df-container\">\n",
              "      <div>\n",
              "<style scoped>\n",
              "    .dataframe tbody tr th:only-of-type {\n",
              "        vertical-align: middle;\n",
              "    }\n",
              "\n",
              "    .dataframe tbody tr th {\n",
              "        vertical-align: top;\n",
              "    }\n",
              "\n",
              "    .dataframe thead th {\n",
              "        text-align: right;\n",
              "    }\n",
              "</style>\n",
              "<table border=\"1\" class=\"dataframe\">\n",
              "  <thead>\n",
              "    <tr style=\"text-align: right;\">\n",
              "      <th></th>\n",
              "      <th>Unnamed: 0</th>\n",
              "      <th>Unnamed: 0.1</th>\n",
              "      <th>frame_num</th>\n",
              "      <th>session_num</th>\n",
              "      <th>mouse_id</th>\n",
              "      <th>annotations</th>\n",
              "      <th>nose_X</th>\n",
              "      <th>nose_Y</th>\n",
              "      <th>left_ear_X</th>\n",
              "      <th>left_ear_Y</th>\n",
              "      <th>...</th>\n",
              "      <th>head_orientation</th>\n",
              "      <th>spd_head_centroid</th>\n",
              "      <th>spd_body_centroid</th>\n",
              "      <th>spd_centroid</th>\n",
              "      <th>acc_head_centroid</th>\n",
              "      <th>acc_body_centroid</th>\n",
              "      <th>acc_centroid</th>\n",
              "      <th>distance</th>\n",
              "      <th>poly_area_head</th>\n",
              "      <th>poly_area_body</th>\n",
              "    </tr>\n",
              "  </thead>\n",
              "  <tbody>\n",
              "    <tr>\n",
              "      <th>0</th>\n",
              "      <td>0</td>\n",
              "      <td>0</td>\n",
              "      <td>0</td>\n",
              "      <td>0</td>\n",
              "      <td>0</td>\n",
              "      <td>3</td>\n",
              "      <td>22.059926</td>\n",
              "      <td>5.382346</td>\n",
              "      <td>21.370271</td>\n",
              "      <td>6.655555</td>\n",
              "      <td>...</td>\n",
              "      <td>-76.930682</td>\n",
              "      <td>NaN</td>\n",
              "      <td>NaN</td>\n",
              "      <td>NaN</td>\n",
              "      <td>NaN</td>\n",
              "      <td>NaN</td>\n",
              "      <td>NaN</td>\n",
              "      <td>4.244334</td>\n",
              "      <td>0.378178</td>\n",
              "      <td>1.377622</td>\n",
              "    </tr>\n",
              "    <tr>\n",
              "      <th>1</th>\n",
              "      <td>1</td>\n",
              "      <td>1</td>\n",
              "      <td>1</td>\n",
              "      <td>0</td>\n",
              "      <td>0</td>\n",
              "      <td>1</td>\n",
              "      <td>22.096829</td>\n",
              "      <td>5.355307</td>\n",
              "      <td>21.460224</td>\n",
              "      <td>6.681567</td>\n",
              "      <td>...</td>\n",
              "      <td>-81.724107</td>\n",
              "      <td>2.470806</td>\n",
              "      <td>6.215506</td>\n",
              "      <td>4.074207</td>\n",
              "      <td>NaN</td>\n",
              "      <td>NaN</td>\n",
              "      <td>NaN</td>\n",
              "      <td>4.257485</td>\n",
              "      <td>0.352497</td>\n",
              "      <td>1.259771</td>\n",
              "    </tr>\n",
              "    <tr>\n",
              "      <th>2</th>\n",
              "      <td>2</td>\n",
              "      <td>2</td>\n",
              "      <td>2</td>\n",
              "      <td>0</td>\n",
              "      <td>0</td>\n",
              "      <td>1</td>\n",
              "      <td>22.247188</td>\n",
              "      <td>4.770894</td>\n",
              "      <td>21.663633</td>\n",
              "      <td>6.495032</td>\n",
              "      <td>...</td>\n",
              "      <td>-102.724356</td>\n",
              "      <td>7.378437</td>\n",
              "      <td>3.004966</td>\n",
              "      <td>3.851131</td>\n",
              "      <td>147.228931</td>\n",
              "      <td>-96.316187</td>\n",
              "      <td>-6.692275</td>\n",
              "      <td>4.378617</td>\n",
              "      <td>0.557240</td>\n",
              "      <td>1.263289</td>\n",
              "    </tr>\n",
              "    <tr>\n",
              "      <th>3</th>\n",
              "      <td>3</td>\n",
              "      <td>3</td>\n",
              "      <td>3</td>\n",
              "      <td>0</td>\n",
              "      <td>0</td>\n",
              "      <td>1</td>\n",
              "      <td>21.929907</td>\n",
              "      <td>4.645837</td>\n",
              "      <td>21.638130</td>\n",
              "      <td>6.237349</td>\n",
              "      <td>...</td>\n",
              "      <td>-102.994617</td>\n",
              "      <td>6.647651</td>\n",
              "      <td>2.418231</td>\n",
              "      <td>3.412081</td>\n",
              "      <td>-21.923601</td>\n",
              "      <td>-17.602061</td>\n",
              "      <td>-13.171507</td>\n",
              "      <td>4.361401</td>\n",
              "      <td>0.437631</td>\n",
              "      <td>1.380436</td>\n",
              "    </tr>\n",
              "    <tr>\n",
              "      <th>4</th>\n",
              "      <td>4</td>\n",
              "      <td>4</td>\n",
              "      <td>4</td>\n",
              "      <td>0</td>\n",
              "      <td>0</td>\n",
              "      <td>1</td>\n",
              "      <td>21.804926</td>\n",
              "      <td>4.627531</td>\n",
              "      <td>21.539674</td>\n",
              "      <td>5.900741</td>\n",
              "      <td>...</td>\n",
              "      <td>-94.236395</td>\n",
              "      <td>7.185160</td>\n",
              "      <td>3.110226</td>\n",
              "      <td>4.968029</td>\n",
              "      <td>16.125266</td>\n",
              "      <td>20.759847</td>\n",
              "      <td>46.678465</td>\n",
              "      <td>4.307015</td>\n",
              "      <td>0.255402</td>\n",
              "      <td>1.513766</td>\n",
              "    </tr>\n",
              "  </tbody>\n",
              "</table>\n",
              "<p>5 rows × 37 columns</p>\n",
              "</div>\n",
              "      <button class=\"colab-df-convert\" onclick=\"convertToInteractive('df-f685076f-d14d-48e9-832f-fe898b54cbca')\"\n",
              "              title=\"Convert this dataframe to an interactive table.\"\n",
              "              style=\"display:none;\">\n",
              "        \n",
              "  <svg xmlns=\"http://www.w3.org/2000/svg\" height=\"24px\"viewBox=\"0 0 24 24\"\n",
              "       width=\"24px\">\n",
              "    <path d=\"M0 0h24v24H0V0z\" fill=\"none\"/>\n",
              "    <path d=\"M18.56 5.44l.94 2.06.94-2.06 2.06-.94-2.06-.94-.94-2.06-.94 2.06-2.06.94zm-11 1L8.5 8.5l.94-2.06 2.06-.94-2.06-.94L8.5 2.5l-.94 2.06-2.06.94zm10 10l.94 2.06.94-2.06 2.06-.94-2.06-.94-.94-2.06-.94 2.06-2.06.94z\"/><path d=\"M17.41 7.96l-1.37-1.37c-.4-.4-.92-.59-1.43-.59-.52 0-1.04.2-1.43.59L10.3 9.45l-7.72 7.72c-.78.78-.78 2.05 0 2.83L4 21.41c.39.39.9.59 1.41.59.51 0 1.02-.2 1.41-.59l7.78-7.78 2.81-2.81c.8-.78.8-2.07 0-2.86zM5.41 20L4 18.59l7.72-7.72 1.47 1.35L5.41 20z\"/>\n",
              "  </svg>\n",
              "      </button>\n",
              "      \n",
              "  <style>\n",
              "    .colab-df-container {\n",
              "      display:flex;\n",
              "      flex-wrap:wrap;\n",
              "      gap: 12px;\n",
              "    }\n",
              "\n",
              "    .colab-df-convert {\n",
              "      background-color: #E8F0FE;\n",
              "      border: none;\n",
              "      border-radius: 50%;\n",
              "      cursor: pointer;\n",
              "      display: none;\n",
              "      fill: #1967D2;\n",
              "      height: 32px;\n",
              "      padding: 0 0 0 0;\n",
              "      width: 32px;\n",
              "    }\n",
              "\n",
              "    .colab-df-convert:hover {\n",
              "      background-color: #E2EBFA;\n",
              "      box-shadow: 0px 1px 2px rgba(60, 64, 67, 0.3), 0px 1px 3px 1px rgba(60, 64, 67, 0.15);\n",
              "      fill: #174EA6;\n",
              "    }\n",
              "\n",
              "    [theme=dark] .colab-df-convert {\n",
              "      background-color: #3B4455;\n",
              "      fill: #D2E3FC;\n",
              "    }\n",
              "\n",
              "    [theme=dark] .colab-df-convert:hover {\n",
              "      background-color: #434B5C;\n",
              "      box-shadow: 0px 1px 3px 1px rgba(0, 0, 0, 0.15);\n",
              "      filter: drop-shadow(0px 1px 2px rgba(0, 0, 0, 0.3));\n",
              "      fill: #FFFFFF;\n",
              "    }\n",
              "  </style>\n",
              "\n",
              "      <script>\n",
              "        const buttonEl =\n",
              "          document.querySelector('#df-f685076f-d14d-48e9-832f-fe898b54cbca button.colab-df-convert');\n",
              "        buttonEl.style.display =\n",
              "          google.colab.kernel.accessAllowed ? 'block' : 'none';\n",
              "\n",
              "        async function convertToInteractive(key) {\n",
              "          const element = document.querySelector('#df-f685076f-d14d-48e9-832f-fe898b54cbca');\n",
              "          const dataTable =\n",
              "            await google.colab.kernel.invokeFunction('convertToInteractive',\n",
              "                                                     [key], {});\n",
              "          if (!dataTable) return;\n",
              "\n",
              "          const docLinkHtml = 'Like what you see? Visit the ' +\n",
              "            '<a target=\"_blank\" href=https://colab.research.google.com/notebooks/data_table.ipynb>data table notebook</a>'\n",
              "            + ' to learn more about interactive tables.';\n",
              "          element.innerHTML = '';\n",
              "          dataTable['output_type'] = 'display_data';\n",
              "          await google.colab.output.renderOutput(dataTable, element);\n",
              "          const docLink = document.createElement('div');\n",
              "          docLink.innerHTML = docLinkHtml;\n",
              "          element.appendChild(docLink);\n",
              "        }\n",
              "      </script>\n",
              "    </div>\n",
              "  </div>\n",
              "  "
            ]
          },
          "metadata": {},
          "execution_count": 2
        }
      ]
    },
    {
      "cell_type": "code",
      "source": [
        "#import logistic regression from sklearn\n",
        "from sklearn.linear_model import LogisticRegression\n",
        "from numpy import mean\n",
        "from numpy import std\n",
        "from sklearn.datasets import make_classification\n",
        "from sklearn.model_selection import cross_val_score\n",
        "from sklearn.model_selection import RepeatedStratifiedKFold\n",
        "from sklearn.linear_model import LogisticRegression\n",
        "\n",
        "#Remove NaNs. There is one NaN in the area inherently, and then a few nans in speed and acc since they require differencing\n",
        "feature_df = feature_df.dropna(axis = 0) \n",
        "\n",
        "#optional to remove all \"other\" states, coded as state 3\n",
        "feature_df_no_other = feature_df[feature_df.annotations != 3]\n",
        "#feature_df = feature_df_no_other\n",
        "\n",
        "#Get a list of predictor names. Feel free to experiment\n",
        "pred_names = ['centroid_X','centroid_Y','poly_area_head','poly_area_body','spd_centroid','acc_centroid','distance','head_vs_body_angle','head_orientation']\n",
        "#pred_names = ['centroid_X','centroid_Y','poly_area_head','spd_centroid','acc_centroid']\n",
        "\n",
        "#to dO: \n",
        "#mouse id\n",
        "#moving average/smoothing\n",
        "#Interaction terms\n",
        "\n",
        "#Use predictor names to get a dataframe of just predictors\n",
        "x = feature_df[pred_names]\n",
        "\n",
        "#optional get data only of res or int\n",
        "feature_df_res = feature_df[feature_df.mouse_id == 0]\n",
        "feature_df_int = feature_df[feature_df.mouse_id == 0]\n",
        "x_res = feature_df_res[pred_names]\n",
        "x_int = feature_df_int[pred_names]\n",
        "\n",
        "#Get the annotations (beh states) to predict\n",
        "y = feature_df['annotations']\n",
        "y_res = feature_df_res['annotations']\n",
        "y_int =  feature_df_int['annotations']\n",
        "# annotations: Vocabulary:  {'attack': 0, 'investigation': 1, 'mount': 2, 'other': 3}\n",
        "\n",
        "#specify model, have it as multinomial to predict beh states (0,1,2,3)\n",
        "model = LogisticRegression(multi_class='multinomial', solver='lbfgs',max_iter=100)\n",
        "#Fit the model (predict y from x), given the above terms\n",
        "model.fit(x,y)\n",
        "\n",
        "# define the model evaluation procedure\n",
        "cv = RepeatedStratifiedKFold(n_splits=4, n_repeats=2, random_state=1)\n",
        "# evaluate the model and collect the scores\n",
        "n_scores = cross_val_score(model, x, y, scoring='accuracy', cv=cv, n_jobs=-1)\n",
        "# report the model performance\n",
        "print('Mean Accuracy: %.3f (%.3f)' % (mean(n_scores), std(n_scores)))\n"
      ],
      "metadata": {
        "id": "eQTf6WBAsLV1",
        "colab": {
          "base_uri": "https://localhost:8080/"
        },
        "outputId": "7e8831c6-6b9a-451e-989b-440c822cef3d"
      },
      "execution_count": 5,
      "outputs": [
        {
          "output_type": "stream",
          "name": "stderr",
          "text": [
            "/usr/local/lib/python3.7/dist-packages/sklearn/linear_model/_logistic.py:818: ConvergenceWarning: lbfgs failed to converge (status=1):\n",
            "STOP: TOTAL NO. of ITERATIONS REACHED LIMIT.\n",
            "\n",
            "Increase the number of iterations (max_iter) or scale the data as shown in:\n",
            "    https://scikit-learn.org/stable/modules/preprocessing.html\n",
            "Please also refer to the documentation for alternative solver options:\n",
            "    https://scikit-learn.org/stable/modules/linear_model.html#logistic-regression\n",
            "  extra_warning_msg=_LOGISTIC_SOLVER_CONVERGENCE_MSG,\n"
          ]
        },
        {
          "output_type": "stream",
          "name": "stdout",
          "text": [
            "Mean Accuracy: 0.685 (0.004)\n"
          ]
        }
      ]
    },
    {
      "cell_type": "code",
      "source": [
        "#Let's dig into the model a little bit more. Import some packages to assess model performance\n",
        "from statsmodels.tools import add_constant\n",
        "from sklearn import metrics\n",
        "\n",
        "#predict y using the model\n",
        "yhat = model.predict(x)\n",
        "#Build a confusion matrix, which shows you actual states vs. predicted states\n",
        "c_matrix = metrics.confusion_matrix(y, yhat)\n",
        "\n",
        "#show confusion matrix in grayscale\n",
        "plt.matshow(c_matrix, cmap=plt.cm.gray)\n",
        "plt.show()\n",
        "\n",
        "from sklearn.metrics import classification_report\n",
        "y_actual = pd.Series(y, name='Actual')\n",
        "y_predicted = pd.Series(yhat, name='Predicted')\n",
        "#Create classification report\n",
        "class_report=classification_report(y, y_predicted)\n",
        "print(class_report)\n",
        "#Precision = Tru Pos/ Tru Pos + False Pos (chance that it correctly identified a given class, given that it identified it)\n",
        "#Recall = Tru Pos/Tru Pos + Fals Neg (correct identification of actual class)"
      ],
      "metadata": {
        "colab": {
          "base_uri": "https://localhost:8080/",
          "height": 625
        },
        "id": "1OdJYXv2LCIp",
        "outputId": "c0bed6f6-ca18-456b-e7fe-15de5d2f5383"
      },
      "execution_count": 6,
      "outputs": [
        {
          "output_type": "stream",
          "name": "stderr",
          "text": [
            "/usr/local/lib/python3.7/dist-packages/statsmodels/tools/_testing.py:19: FutureWarning: pandas.util.testing is deprecated. Use the functions in the public API at pandas.testing instead.\n",
            "  import pandas.util.testing as tm\n"
          ]
        },
        {
          "output_type": "display_data",
          "data": {
            "text/plain": [
              "<Figure size 288x288 with 1 Axes>"
            ],
            "image/png": "[encoded data removed]"
          },
          "metadata": {
            "needs_background": "light"
          }
        },
        {
          "output_type": "stream",
          "name": "stderr",
          "text": [
            "/usr/local/lib/python3.7/dist-packages/sklearn/metrics/_classification.py:1318: UndefinedMetricWarning: Precision and F-score are ill-defined and being set to 0.0 in labels with no predicted samples. Use `zero_division` parameter to control this behavior.\n",
            "  _warn_prf(average, modifier, msg_start, len(result))\n",
            "/usr/local/lib/python3.7/dist-packages/sklearn/metrics/_classification.py:1318: UndefinedMetricWarning: Precision and F-score are ill-defined and being set to 0.0 in labels with no predicted samples. Use `zero_division` parameter to control this behavior.\n",
            "  _warn_prf(average, modifier, msg_start, len(result))\n"
          ]
        },
        {
          "output_type": "stream",
          "name": "stdout",
          "text": [
            "              precision    recall  f1-score   support\n",
            "\n",
            "           0       0.12      0.01      0.01     28064\n",
            "           1       0.49      0.53      0.51    293168\n",
            "           2       0.00      0.00      0.00     57218\n",
            "           3       0.78      0.85      0.82    636746\n",
            "\n",
            "    accuracy                           0.69   1015196\n",
            "   macro avg       0.35      0.35      0.33   1015196\n",
            "weighted avg       0.64      0.69      0.66   1015196\n",
            "\n"
          ]
        },
        {
          "output_type": "stream",
          "name": "stderr",
          "text": [
            "/usr/local/lib/python3.7/dist-packages/sklearn/metrics/_classification.py:1318: UndefinedMetricWarning: Precision and F-score are ill-defined and being set to 0.0 in labels with no predicted samples. Use `zero_division` parameter to control this behavior.\n",
            "  _warn_prf(average, modifier, msg_start, len(result))\n"
          ]
        }
      ]
    },
    {
      "cell_type": "code",
      "source": [
        "#Get coefficients for each term\n",
        "#Do more research on how to interprett coefs in multinomial model\n",
        "model_coefs = pd.DataFrame(zip(x.columns, np.transpose(model.coef_.tolist()[0])), columns=['features', 'coef'])\n",
        "print(model_coefs)"
      ],
      "metadata": {
        "colab": {
          "base_uri": "https://localhost:8080/"
        },
        "id": "40aarfQ-Mm5l",
        "outputId": "ee116dab-4cc4-4852-89f9-d22365bf9c08"
      },
      "execution_count": 7,
      "outputs": [
        {
          "output_type": "stream",
          "name": "stdout",
          "text": [
            "             features      coef\n",
            "0          centroid_X -0.039809\n",
            "1          centroid_Y -0.042909\n",
            "2      poly_area_head -0.002177\n",
            "3      poly_area_body -0.005756\n",
            "4        spd_centroid  0.009404\n",
            "5        acc_centroid -0.000138\n",
            "6            distance -0.068834\n",
            "7  head_vs_body_angle -0.003112\n",
            "8    head_orientation -0.000540\n"
          ]
        }
      ]
    },
    {
      "cell_type": "code",
      "source": [
        ""
      ],
      "metadata": {
        "id": "KKiX1fIoMqg2"
      },
      "execution_count": null,
      "outputs": []
    }
  ]
}
